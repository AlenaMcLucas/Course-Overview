{
 "cells": [
  {
   "cell_type": "markdown",
   "metadata": {},
   "source": [
    "## Week 1 Assignment"
   ]
  },
  {
   "cell_type": "markdown",
   "metadata": {},
   "source": [
    "### 1. Gas Pump Informer\n",
    "\n",
    "Write a script that prompts the user for a number of gallons of gasoline. Reprint that value, along with its conversion to other measurements:\n",
    "\n",
    "- Equivalent number of liters\n",
    "- Number of barrels of oil required to produce it\n",
    "- Price in U.S. dollars\n",
    "\n",
    "Figures to use:\n",
    "\n",
    "- 1 gallon is equivalent to 3.7854 liters.\n",
    "- 1 barrel of oil produces 19.5 gallons of gas.\n",
    "- The average price of gas is approximately $3.65."
   ]
  },
  {
   "cell_type": "code",
   "execution_count": 10,
   "metadata": {},
   "outputs": [
    {
     "name": "stdout",
     "output_type": "stream",
     "text": [
      "Number of gallons of gasoline: 100\n",
      "Gallons: 100.0\n",
      "Liters: 378.54\n",
      "Barrels: 5.13\n",
      "Price in US Dollars: $365.0\n"
     ]
    }
   ],
   "source": [
    "gallons = float(input(\"Number of gallons of gasoline: \"))\n",
    "\n",
    "liters = round(gallons * 3.7854, 2)\n",
    "barrels = round(gallons / 19.5, 2)\n",
    "price = round(gallons * 3.65, 2)\n",
    "\n",
    "print(\"Gallons:\", gallons)\n",
    "print(\"Liters:\", liters)\n",
    "print(\"Barrels:\", barrels)\n",
    "print(\"Price in US Dollars: $\" + str(price))"
   ]
  },
  {
   "cell_type": "markdown",
   "metadata": {},
   "source": [
    "### 2. Pig Latin Translator\n",
    "\n",
    "Write a script that translates names into a (simplified) Pig Latin. Have your script ask the user for his or her name. Move the first letter to the end of the name and add the letters \"ay\".  Make sure that only the first letter of your output is capitalized. Your script should re-create the following behavior exactly:\n",
    "\n",
    "```\n",
    "Enter your name: Paul\n",
    "Aulpay\n",
    "```"
   ]
  },
  {
   "cell_type": "code",
   "execution_count": 7,
   "metadata": {},
   "outputs": [
    {
     "name": "stdout",
     "output_type": "stream",
     "text": [
      "Enter your name: Paul\n",
      "Aulpay\n"
     ]
    }
   ],
   "source": [
    "name = input(\"Enter your name: \")\n",
    "print(name[1:].capitalize() + name[0].lower() + \"ay\")"
   ]
  },
  {
   "cell_type": "markdown",
   "metadata": {},
   "source": [
    "### 3. Number Averager\n",
    "\n",
    "Write a script that prompts the user for two numbers, a and b.  Output the the following types of averages:\n",
    "\n",
    "- The arithmetic mean $(a + b) / 2 $\n",
    "- The geometric mean $\\sqrt{ab}$\n",
    "- The root-mean-square $\\sqrt{a^2 + b^2}$"
   ]
  },
  {
   "cell_type": "code",
   "execution_count": 9,
   "metadata": {},
   "outputs": [
    {
     "name": "stdout",
     "output_type": "stream",
     "text": [
      "Type a number: 4\n",
      "Type another number: 8\n",
      "Arithmetic mean: 6.0\n",
      "Geometric mean: 5.66\n",
      "Root-mean-square: 8.94\n"
     ]
    }
   ],
   "source": [
    "a = float(input(\"Type a number: \"))\n",
    "b = float(input(\"Type another number: \"))\n",
    "\n",
    "arithmetic = round((a + b) / 2, 2)\n",
    "geometric = round((a * b) ** (1.0 / 2.0), 2)\n",
    "root_mean_square = round(((a ** 2) + (b ** 2)) ** (1.0 / 2.0), 2)\n",
    "\n",
    "print(\"Arithmetic mean:\", arithmetic)\n",
    "print(\"Geometric mean:\", geometric)\n",
    "print(\"Root-mean-square:\", root_mean_square)"
   ]
  },
  {
   "cell_type": "code",
   "execution_count": null,
   "metadata": {},
   "outputs": [],
   "source": []
  }
 ],
 "metadata": {
  "kernelspec": {
   "display_name": "Python 3",
   "language": "python",
   "name": "python3"
  },
  "language_info": {
   "codemirror_mode": {
    "name": "ipython",
    "version": 3
   },
   "file_extension": ".py",
   "mimetype": "text/x-python",
   "name": "python",
   "nbconvert_exporter": "python",
   "pygments_lexer": "ipython3",
   "version": "3.6.5"
  }
 },
 "nbformat": 4,
 "nbformat_minor": 1
}
