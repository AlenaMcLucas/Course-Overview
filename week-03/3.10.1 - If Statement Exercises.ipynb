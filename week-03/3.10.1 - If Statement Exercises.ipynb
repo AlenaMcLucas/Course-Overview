{
 "cells": [
  {
   "cell_type": "markdown",
   "metadata": {},
   "source": [
    "The mythical island nation of Laskoatu has a rather simple tax code.  The first \\$1000 of income is taxed at 5%.  The next \\$1000 is taxed at 10%.  Any income beyond the first \\$2000 is taxed at 15%.  Complete the following script so that it asks the user for his or her income and outputs the amount of tax owed."
   ]
  },
  {
   "cell_type": "code",
   "execution_count": 5,
   "metadata": {},
   "outputs": [
    {
     "name": "stdout",
     "output_type": "stream",
     "text": [
      "Please enter your income:900\n",
      "$45.0\n"
     ]
    }
   ],
   "source": [
    "income = int(input(\"Please enter your income:\"))\n",
    "\n",
    "taxes = 0\n",
    "\n",
    "if income <= 1000:\n",
    "    taxes = income * 0.05\n",
    "elif income > 1000 and income <= 2000:\n",
    "    taxes = 50 + (income - 1000) * 0.1\n",
    "else:\n",
    "    taxes = 150 + (income - 2000) * 0.15\n",
    "\n",
    "print('$' + str(taxes))"
   ]
  },
  {
   "cell_type": "code",
   "execution_count": null,
   "metadata": {
    "collapsed": true
   },
   "outputs": [],
   "source": []
  }
 ],
 "metadata": {
  "kernelspec": {
   "display_name": "Python 3",
   "language": "python",
   "name": "python3"
  },
  "language_info": {
   "codemirror_mode": {
    "name": "ipython",
    "version": 3
   },
   "file_extension": ".py",
   "mimetype": "text/x-python",
   "name": "python",
   "nbconvert_exporter": "python",
   "pygments_lexer": "ipython3",
   "version": "3.6.5"
  }
 },
 "nbformat": 4,
 "nbformat_minor": 1
}
