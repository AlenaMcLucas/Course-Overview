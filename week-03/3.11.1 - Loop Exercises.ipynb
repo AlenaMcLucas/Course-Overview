{
 "cells": [
  {
   "cell_type": "markdown",
   "metadata": {},
   "source": [
    "1. Write a script that prompts the user for his or her name. Using a loop that counts downward, print the name with the letters reversed. You may use `s.lower()` and `s.upper()` to change a string `s` to lowercase and uppercase letters.\n",
    "```\n",
    "Enter your name: Paul \n",
    "Luap\n",
    "```\n",
    "If the name is the same forward and backwards, print \"Palindrome!\" on the next line.\n",
    "```\n",
    "Enter your name: Ana \n",
    "Ana \n",
    "Palindrome!\n",
    "```"
   ]
  },
  {
   "cell_type": "code",
   "execution_count": 5,
   "metadata": {},
   "outputs": [
    {
     "name": "stdout",
     "output_type": "stream",
     "text": [
      "Enter your name: Ana\n",
      "Ana\n",
      "Palindrome!\n"
     ]
    }
   ],
   "source": [
    "name = input(\"Enter your name: \")\n",
    "\n",
    "name_reverse = \"\"\n",
    "\n",
    "for char in name:\n",
    "    name_reverse = char + name_reverse\n",
    "    \n",
    "name_reverse = name_reverse.capitalize()\n",
    "print(name_reverse)\n",
    "\n",
    "if name == name_reverse:\n",
    "    print(\"Palindrome!\")"
   ]
  },
  {
   "cell_type": "markdown",
   "metadata": {},
   "source": [
    "2. Write a script that prompts the user for an integer tree size, then displays a number tree as shown below:\n",
    "\n",
    "Enter a size: 5 \n",
    "```\n",
    "    1\n",
    "   121\n",
    "  12321\n",
    " 1234321 \n",
    "123454321\n",
    "```"
   ]
  },
  {
   "cell_type": "code",
   "execution_count": 23,
   "metadata": {},
   "outputs": [
    {
     "name": "stdout",
     "output_type": "stream",
     "text": [
      "5\n",
      "4\n",
      "3\n",
      "2\n"
     ]
    }
   ],
   "source": [
    "for num in range(5, 1, -1):\n",
    "    print(num)"
   ]
  },
  {
   "cell_type": "code",
   "execution_count": 26,
   "metadata": {},
   "outputs": [
    {
     "name": "stdout",
     "output_type": "stream",
     "text": [
      "Enter a size: 5\n",
      "    1    \n",
      "   121   \n",
      "  12321  \n",
      " 1234321 \n",
      "123454321\n"
     ]
    }
   ],
   "source": [
    "n = int(input(\"Enter a size: \"))\n",
    "\n",
    "count = 1\n",
    "\n",
    "while count <= n:\n",
    "    space = n - count\n",
    "    print(\" \" * space, end = \"\")\n",
    "    for num in range(1, count + 1):\n",
    "        print(num, end = \"\")\n",
    "    for num in range(count - 1, 0, -1):\n",
    "        print(num, end = \"\")\n",
    "    print(\" \" * space)\n",
    "    count += 1\n"
   ]
  },
  {
   "cell_type": "markdown",
   "metadata": {},
   "source": [
    "3. The Fibonacci numbers begin with 1, 1.  After the first two numbers, each number is the sum of the previous two. 1 + 1 = 2, so 2 is the third number. Then 1 + 2 = 3, so 3 is the next one, and so on. Write a script that prompts the user for a number, then prints all the Fibonacci numbers that are less than or equal to the input, in order.\n",
    "\n",
    "```\n",
    "Enter a number: 15\n",
    "1 1 2 3 5 8 13\n",
    "```"
   ]
  },
  {
   "cell_type": "code",
   "execution_count": 32,
   "metadata": {},
   "outputs": [
    {
     "name": "stdout",
     "output_type": "stream",
     "text": [
      "Enter a number: 15\n",
      "1 1 2 3 5 8 13 "
     ]
    }
   ],
   "source": [
    "n = int(input(\"Enter a number: \"))\n",
    "\n",
    "fib = [1, 1]\n",
    "\n",
    "while fib[-1] < n:\n",
    "    fib.append(fib[-1] + fib[-2])\n",
    "\n",
    "if fib[-1] > n:\n",
    "    fib.pop()\n",
    "\n",
    "for num in fib:\n",
    "    print(str(num) + \" \", end = \"\")"
   ]
  },
  {
   "cell_type": "markdown",
   "metadata": {},
   "source": [
    "Pascal's triangle is a triangle of numbers that is computed as follows.  The first row contains a 1.  Each row after that begins and ends with a 1, and every other number is the sum of the two numbers above it.  The first six rows of Pascal's triangle are shown below.\n",
    "```\n",
    "      1\n",
    "     1 1\n",
    "    1 2 1\n",
    "  1  3 3  1\n",
    " 1 4  6  4 1\n",
    "1 5 10 10 5 1\n",
    "```\n",
    "Write a script to compute the *n*th row of Pascal's triangle."
   ]
  },
  {
   "cell_type": "code",
   "execution_count": 45,
   "metadata": {},
   "outputs": [
    {
     "name": "stdout",
     "output_type": "stream",
     "text": [
      "Enter a number: 6\n",
      "1 \n",
      "\n",
      "1 1 \n",
      "\n",
      "1 2 1 \n",
      "\n",
      "1 3 3 1 \n",
      "\n",
      "1 4 6 4 1 \n",
      "\n",
      "1 5 10 10 5 1 \n",
      "\n"
     ]
    }
   ],
   "source": [
    "n = int(input(\"Enter a number: \"))\n",
    "\n",
    "current_row = 2\n",
    "triangle = [[1], [1, 1]]\n",
    "\n",
    "while n > current_row:\n",
    "    current_row += 1\n",
    "    row = []\n",
    "    row.append(1)\n",
    "    while len(row) < current_row - 1:\n",
    "        row.append(triangle[current_row - 2][len(row)] + triangle[current_row - 2][len(row) - 1])\n",
    "    row.append(1)\n",
    "    \n",
    "    triangle.append(row)\n",
    "    \n",
    "\n",
    "for row in triangle:\n",
    "    for column in row:\n",
    "        print(str(column) + \" \", end = \"\")\n",
    "    print(\"\\n\")"
   ]
  },
  {
   "cell_type": "code",
   "execution_count": null,
   "metadata": {},
   "outputs": [],
   "source": []
  }
 ],
 "metadata": {
  "kernelspec": {
   "display_name": "Python 3",
   "language": "python",
   "name": "python3"
  },
  "language_info": {
   "codemirror_mode": {
    "name": "ipython",
    "version": 3
   },
   "file_extension": ".py",
   "mimetype": "text/x-python",
   "name": "python",
   "nbconvert_exporter": "python",
   "pygments_lexer": "ipython3",
   "version": "3.6.5"
  }
 },
 "nbformat": 4,
 "nbformat_minor": 1
}
